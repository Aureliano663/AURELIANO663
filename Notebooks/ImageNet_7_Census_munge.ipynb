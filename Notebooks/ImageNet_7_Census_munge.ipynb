{
 "cells": [
  {
   "cell_type": "code",
   "execution_count": 1,
   "metadata": {},
   "outputs": [],
   "source": [
    "import pandas as pd\n",
    "import numpy as np\n",
    "import os\n",
    "import seaborn as sns\n",
    "import matplotlib.pyplot as plt\n",
    "from matplotlib.patches import Rectangle# For the bounding box\n",
    "import matplotlib.image as image\n",
    "from scipy.stats import describe"
   ]
  },
  {
   "cell_type": "markdown",
   "metadata": {},
   "source": [
    "Here are the csv files of the individual experiments:\n",
    "\n",
    "-  'df_insightface_stats.csv': InsightFace analysis results\n",
    "-  'df_audit_age_gender_dex.csv': Dex analysis results from teh audit paper\n",
    "-  'df_nsfw.csv': NSFW analysis\n",
    "-  'df_acc_classwise_resnet50.csv': Classwise acc and preds using the ResNet50 model\n",
    "-  'df_acc_classwise_NasNet_mobile.csv': Classwise acc and preds using the NasNetMobile model\n",
    "-  'df_imagenet_names_umap.csv': UMAP_2D (Glove-300D (Imagenet class labels))\n",
    "-  'df_census_columns_interpretation.csv' : Interpretations of what the 61 output columns stand for.\n",
    "\n",
    "May sure they all reside in a dir titled: *./df_imagenet*\n",
    "\n",
    "The output is a datfarme with the 61 parameters across the 1000 classes:\n",
    " *df_census_imagenet_61.csv*\n",
    "\n"
   ]
  },
  {
   "cell_type": "code",
   "execution_count": 2,
   "metadata": {},
   "outputs": [],
   "source": [
    "list_csv_constituents=['df_insightface_stats.csv',\n",
    "'df_audit_age_gender_dex.csv',\n",
    "'df_nsfw.csv',\n",
    "'df_acc_classwise_resnet50.csv',\n",
    "'df_acc_classwise_NasNet_mobile.csv',\n",
    "'df_imagenet_names_umap.csv']"
   ]
  },
  {
   "cell_type": "code",
   "execution_count": 3,
   "metadata": {},
   "outputs": [
    {
     "name": "stdout",
     "output_type": "stream",
     "text": [
      "df_insightface_stats.csv\n",
      "(1000, 30)\n",
      "['class_number', 'wordnet_id', 'label', 'uri', 'n_train', 'n_val', 'n_humans_train', 'n_humans_val', 'Nunique_humans_train', 'gender_skewness_train', 'age_min_train', 'age_max_train', 'n_women_train', 'mean_age_women_train', 'std_age_women_train', 'n_men_train', 'mean_age_men_train', 'std_age_men_train', 'age_min_val', 'age_max_val', 'Nunique_humans_val', 'gender_skewness_val', 'n_women_val', 'mean_age_women_val', 'std_age_women_val', 'n_men_val', 'mean_age_men_val', 'std_age_men_val', 'age_min', 'age_max']\n",
      "------\n",
      "df_audit_age_gender_dex.csv\n",
      "(1000, 12)\n",
      "['wordnet_id', 'n_faces_raw_audit', 'n_faceswithages_audit', 'n_train_audit', 'mean_age_audit', 'std_age_audit', 'skew_age_audit', 'n_faceswithages_audit_2', 'n_train_audit_2', 'mean_gender_audit', 'std_gender_audit', 'skew_gender_audit']\n",
      "------\n",
      "df_nsfw.csv\n",
      "(1000, 5)\n",
      "['Unnamed: 0', 'mean_nsfw_train', 'mean_nsfw_val', 'std_nsfw_train', 'std_nsfw_val']\n",
      "------\n",
      "df_acc_classwise_resnet50.csv\n",
      "(1000, 7)\n",
      "['Unnamed: 0', 'mean_top1_train', 'mean_top1_val', 'mean_top5_train', 'mean_top5_val', 'pred_train', 'pred_val']\n",
      "------\n",
      "df_acc_classwise_NasNet_mobile.csv\n",
      "(1000, 7)\n",
      "['Unnamed: 0', 'mean_top1_train', 'mean_top1_val', 'mean_top5_train', 'mean_top5_val', 'pred_train', 'pred_val']\n",
      "------\n",
      "df_imagenet_names_umap.csv\n",
      "(1000, 5)\n",
      "['class_number', 'wordnet_id', 'label', 'umap_x', 'umap_y']\n",
      "------\n"
     ]
    }
   ],
   "source": [
    "for f in list_csv_constituents:\n",
    "    df=pd.read_csv('./df_imagenet/'+f)\n",
    "    print(f)\n",
    "    print(df.shape)\n",
    "    print(list(df.columns))\n",
    "    print('------')"
   ]
  },
  {
   "cell_type": "markdown",
   "metadata": {},
   "source": [
    "# Read in all the CSVs:"
   ]
  },
  {
   "cell_type": "code",
   "execution_count": 4,
   "metadata": {},
   "outputs": [],
   "source": [
    "df_inisghtface=pd.read_csv('./df_imagenet/df_insightface_stats.csv')\n",
    "df_dex=pd.read_csv('./df_imagenet/df_audit_age_gender_dex.csv')\n",
    "df_nsfw=pd.read_csv('./df_imagenet/df_nsfw.csv')\n",
    "df_acc_1=pd.read_csv('./df_imagenet/df_acc_classwise_resnet50.csv')\n",
    "df_acc_2=pd.read_csv('./df_imagenet/df_acc_classwise_NasNet_mobile.csv')\n",
    "df_umap=pd.read_csv('./df_imagenet/df_imagenet_names_umap.csv')"
   ]
  },
  {
   "cell_type": "code",
   "execution_count": 5,
   "metadata": {},
   "outputs": [
    {
     "data": {
      "text/html": [
       "<div>\n",
       "<style scoped>\n",
       "    .dataframe tbody tr th:only-of-type {\n",
       "        vertical-align: middle;\n",
       "    }\n",
       "\n",
       "    .dataframe tbody tr th {\n",
       "        vertical-align: top;\n",
       "    }\n",
       "\n",
       "    .dataframe thead th {\n",
       "        text-align: right;\n",
       "    }\n",
       "</style>\n",
       "<table border=\"1\" class=\"dataframe\">\n",
       "  <thead>\n",
       "    <tr style=\"text-align: right;\">\n",
       "      <th></th>\n",
       "      <th>wordnet_id</th>\n",
       "      <th>n_faces_raw_audit</th>\n",
       "      <th>n_faceswithages_audit</th>\n",
       "      <th>n_train_audit</th>\n",
       "      <th>mean_age_audit</th>\n",
       "      <th>std_age_audit</th>\n",
       "      <th>skew_age_audit</th>\n",
       "      <th>n_faceswithages_audit_2</th>\n",
       "      <th>n_train_audit_2</th>\n",
       "      <th>mean_gender_audit</th>\n",
       "      <th>std_gender_audit</th>\n",
       "      <th>skew_gender_audit</th>\n",
       "    </tr>\n",
       "  </thead>\n",
       "  <tbody>\n",
       "    <tr>\n",
       "      <th>0</th>\n",
       "      <td>n01440764</td>\n",
       "      <td>2824</td>\n",
       "      <td>789</td>\n",
       "      <td>1300</td>\n",
       "      <td>35.576593</td>\n",
       "      <td>13.375839</td>\n",
       "      <td>0.096840</td>\n",
       "      <td>789</td>\n",
       "      <td>1300</td>\n",
       "      <td>0.911870</td>\n",
       "      <td>0.241729</td>\n",
       "      <td>-2.977989</td>\n",
       "    </tr>\n",
       "    <tr>\n",
       "      <th>1</th>\n",
       "      <td>n01443537</td>\n",
       "      <td>3307</td>\n",
       "      <td>10</td>\n",
       "      <td>1300</td>\n",
       "      <td>29.425552</td>\n",
       "      <td>15.690300</td>\n",
       "      <td>0.962499</td>\n",
       "      <td>10</td>\n",
       "      <td>1300</td>\n",
       "      <td>0.573201</td>\n",
       "      <td>0.364169</td>\n",
       "      <td>-0.208323</td>\n",
       "    </tr>\n",
       "    <tr>\n",
       "      <th>2</th>\n",
       "      <td>n01484850</td>\n",
       "      <td>1389</td>\n",
       "      <td>15</td>\n",
       "      <td>1300</td>\n",
       "      <td>32.616980</td>\n",
       "      <td>7.514876</td>\n",
       "      <td>1.136183</td>\n",
       "      <td>15</td>\n",
       "      <td>1300</td>\n",
       "      <td>0.769053</td>\n",
       "      <td>0.362072</td>\n",
       "      <td>-1.302524</td>\n",
       "    </tr>\n",
       "    <tr>\n",
       "      <th>3</th>\n",
       "      <td>n01491361</td>\n",
       "      <td>1817</td>\n",
       "      <td>8</td>\n",
       "      <td>1300</td>\n",
       "      <td>30.716930</td>\n",
       "      <td>5.821958</td>\n",
       "      <td>1.202171</td>\n",
       "      <td>8</td>\n",
       "      <td>1300</td>\n",
       "      <td>0.868673</td>\n",
       "      <td>0.348788</td>\n",
       "      <td>-2.265738</td>\n",
       "    </tr>\n",
       "    <tr>\n",
       "      <th>4</th>\n",
       "      <td>n01494475</td>\n",
       "      <td>1846</td>\n",
       "      <td>27</td>\n",
       "      <td>1300</td>\n",
       "      <td>29.862275</td>\n",
       "      <td>7.151390</td>\n",
       "      <td>-1.171221</td>\n",
       "      <td>27</td>\n",
       "      <td>1300</td>\n",
       "      <td>0.867867</td>\n",
       "      <td>0.298537</td>\n",
       "      <td>-2.346808</td>\n",
       "    </tr>\n",
       "  </tbody>\n",
       "</table>\n",
       "</div>"
      ],
      "text/plain": [
       "  wordnet_id  n_faces_raw_audit  n_faceswithages_audit  n_train_audit  \\\n",
       "0  n01440764               2824                    789           1300   \n",
       "1  n01443537               3307                     10           1300   \n",
       "2  n01484850               1389                     15           1300   \n",
       "3  n01491361               1817                      8           1300   \n",
       "4  n01494475               1846                     27           1300   \n",
       "\n",
       "   mean_age_audit  std_age_audit  skew_age_audit  n_faceswithages_audit_2  \\\n",
       "0       35.576593      13.375839        0.096840                      789   \n",
       "1       29.425552      15.690300        0.962499                       10   \n",
       "2       32.616980       7.514876        1.136183                       15   \n",
       "3       30.716930       5.821958        1.202171                        8   \n",
       "4       29.862275       7.151390       -1.171221                       27   \n",
       "\n",
       "   n_train_audit_2  mean_gender_audit  std_gender_audit  skew_gender_audit  \n",
       "0             1300           0.911870          0.241729          -2.977989  \n",
       "1             1300           0.573201          0.364169          -0.208323  \n",
       "2             1300           0.769053          0.362072          -1.302524  \n",
       "3             1300           0.868673          0.348788          -2.265738  \n",
       "4             1300           0.867867          0.298537          -2.346808  "
      ]
     },
     "execution_count": 5,
     "metadata": {},
     "output_type": "execute_result"
    }
   ],
   "source": [
    "df_dex.head()"
   ]
  },
  {
   "cell_type": "code",
   "execution_count": 6,
   "metadata": {},
   "outputs": [],
   "source": [
    "# col_retain_dex=['wordnet_id',\n",
    "#  'n_faces_raw_audit',\n",
    "#  'n_faceswithages_audit',\n",
    "#  'mean_age_audit',\n",
    "#  'std_age_audit',\n",
    "#  'skew_age_audit',\n",
    "#  'mean_gender_audit',\n",
    "#  'std_gender_audit',\n",
    "#  'skew_gender_audit']\n",
    "# df_dex_final=df_dex.loc[:,col_retain_dex]"
   ]
  },
  {
   "cell_type": "code",
   "execution_count": 7,
   "metadata": {},
   "outputs": [
    {
     "name": "stdout",
     "output_type": "stream",
     "text": [
      "  Unnamed: 0  mean_nsfw_train  mean_nsfw_val  std_nsfw_train  std_nsfw_val\n",
      "0  n02025239         0.011244       0.007649        0.042218      0.021405\n"
     ]
    },
    {
     "data": {
      "text/html": [
       "<div>\n",
       "<style scoped>\n",
       "    .dataframe tbody tr th:only-of-type {\n",
       "        vertical-align: middle;\n",
       "    }\n",
       "\n",
       "    .dataframe tbody tr th {\n",
       "        vertical-align: top;\n",
       "    }\n",
       "\n",
       "    .dataframe thead th {\n",
       "        text-align: right;\n",
       "    }\n",
       "</style>\n",
       "<table border=\"1\" class=\"dataframe\">\n",
       "  <thead>\n",
       "    <tr style=\"text-align: right;\">\n",
       "      <th></th>\n",
       "      <th>wordnet_id</th>\n",
       "      <th>mean_nsfw_train</th>\n",
       "      <th>mean_nsfw_val</th>\n",
       "      <th>std_nsfw_train</th>\n",
       "      <th>std_nsfw_val</th>\n",
       "    </tr>\n",
       "  </thead>\n",
       "  <tbody>\n",
       "    <tr>\n",
       "      <th>0</th>\n",
       "      <td>n02025239</td>\n",
       "      <td>0.011244</td>\n",
       "      <td>0.007649</td>\n",
       "      <td>0.042218</td>\n",
       "      <td>0.021405</td>\n",
       "    </tr>\n",
       "  </tbody>\n",
       "</table>\n",
       "</div>"
      ],
      "text/plain": [
       "  wordnet_id  mean_nsfw_train  mean_nsfw_val  std_nsfw_train  std_nsfw_val\n",
       "0  n02025239         0.011244       0.007649        0.042218      0.021405"
      ]
     },
     "execution_count": 7,
     "metadata": {},
     "output_type": "execute_result"
    }
   ],
   "source": [
    "print(df_nsfw.head(1))\n",
    "df_nsfw.columns=['wordnet_id', 'mean_nsfw_train', 'mean_nsfw_val', 'std_nsfw_train', 'std_nsfw_val']\n",
    "df_nsfw.head(1)"
   ]
  },
  {
   "cell_type": "code",
   "execution_count": 8,
   "metadata": {},
   "outputs": [
    {
     "data": {
      "text/html": [
       "<div>\n",
       "<style scoped>\n",
       "    .dataframe tbody tr th:only-of-type {\n",
       "        vertical-align: middle;\n",
       "    }\n",
       "\n",
       "    .dataframe tbody tr th {\n",
       "        vertical-align: top;\n",
       "    }\n",
       "\n",
       "    .dataframe thead th {\n",
       "        text-align: right;\n",
       "    }\n",
       "</style>\n",
       "<table border=\"1\" class=\"dataframe\">\n",
       "  <thead>\n",
       "    <tr style=\"text-align: right;\">\n",
       "      <th></th>\n",
       "      <th>Unnamed: 0</th>\n",
       "      <th>mean_top1_train</th>\n",
       "      <th>mean_top1_val</th>\n",
       "      <th>mean_top5_train</th>\n",
       "      <th>mean_top5_val</th>\n",
       "      <th>pred_train</th>\n",
       "      <th>pred_val</th>\n",
       "    </tr>\n",
       "  </thead>\n",
       "  <tbody>\n",
       "    <tr>\n",
       "      <th>0</th>\n",
       "      <td>n02025239</td>\n",
       "      <td>0.940769</td>\n",
       "      <td>0.96</td>\n",
       "      <td>0.983077</td>\n",
       "      <td>0.98</td>\n",
       "      <td>[139 139 139 ... 139 139 139]</td>\n",
       "      <td>[140 139 139 139 139 139 139 139 139 139 139 1...</td>\n",
       "    </tr>\n",
       "  </tbody>\n",
       "</table>\n",
       "</div>"
      ],
      "text/plain": [
       "  Unnamed: 0  mean_top1_train  mean_top1_val  mean_top5_train  mean_top5_val  \\\n",
       "0  n02025239         0.940769           0.96         0.983077           0.98   \n",
       "\n",
       "                      pred_train  \\\n",
       "0  [139 139 139 ... 139 139 139]   \n",
       "\n",
       "                                            pred_val  \n",
       "0  [140 139 139 139 139 139 139 139 139 139 139 1...  "
      ]
     },
     "execution_count": 8,
     "metadata": {},
     "output_type": "execute_result"
    }
   ],
   "source": [
    "df_acc_1=pd.read_csv('./df_imagenet/df_acc_classwise_resnet50.csv')\n",
    "df_acc_1.head(1)"
   ]
  },
  {
   "cell_type": "code",
   "execution_count": 9,
   "metadata": {},
   "outputs": [
    {
     "data": {
      "text/html": [
       "<div>\n",
       "<style scoped>\n",
       "    .dataframe tbody tr th:only-of-type {\n",
       "        vertical-align: middle;\n",
       "    }\n",
       "\n",
       "    .dataframe tbody tr th {\n",
       "        vertical-align: top;\n",
       "    }\n",
       "\n",
       "    .dataframe thead th {\n",
       "        text-align: right;\n",
       "    }\n",
       "</style>\n",
       "<table border=\"1\" class=\"dataframe\">\n",
       "  <thead>\n",
       "    <tr style=\"text-align: right;\">\n",
       "      <th></th>\n",
       "      <th>wordnet_id</th>\n",
       "      <th>mean_top1_train_r50</th>\n",
       "      <th>mean_top1_val_r50</th>\n",
       "      <th>mean_top5_train_r50</th>\n",
       "      <th>mean_top5_val_r50</th>\n",
       "      <th>pred_train_r50</th>\n",
       "      <th>pred_val_r50</th>\n",
       "    </tr>\n",
       "  </thead>\n",
       "  <tbody>\n",
       "    <tr>\n",
       "      <th>0</th>\n",
       "      <td>n02025239</td>\n",
       "      <td>0.940769</td>\n",
       "      <td>0.96</td>\n",
       "      <td>0.983077</td>\n",
       "      <td>0.98</td>\n",
       "      <td>[139 139 139 ... 139 139 139]</td>\n",
       "      <td>[140 139 139 139 139 139 139 139 139 139 139 1...</td>\n",
       "    </tr>\n",
       "  </tbody>\n",
       "</table>\n",
       "</div>"
      ],
      "text/plain": [
       "  wordnet_id  mean_top1_train_r50  mean_top1_val_r50  mean_top5_train_r50  \\\n",
       "0  n02025239             0.940769               0.96             0.983077   \n",
       "\n",
       "   mean_top5_val_r50                 pred_train_r50  \\\n",
       "0               0.98  [139 139 139 ... 139 139 139]   \n",
       "\n",
       "                                        pred_val_r50  \n",
       "0  [140 139 139 139 139 139 139 139 139 139 139 1...  "
      ]
     },
     "execution_count": 9,
     "metadata": {},
     "output_type": "execute_result"
    }
   ],
   "source": [
    "col_acc_1=['wordnet_id', 'mean_top1_train', 'mean_top1_val', 'mean_top5_train',\n",
    "       'mean_top5_val', 'pred_train', 'pred_val']\n",
    "col_acc_r50=[]\n",
    "for col in col_acc_1:\n",
    "    if(col!='wordnet_id'):\n",
    "        col=col+'_r50'\n",
    "    col_acc_r50.append(col)\n",
    "df_acc_1.columns=col_acc_r50\n",
    "df_acc_1.head(1)"
   ]
  },
  {
   "cell_type": "code",
   "execution_count": 10,
   "metadata": {},
   "outputs": [
    {
     "data": {
      "text/html": [
       "<div>\n",
       "<style scoped>\n",
       "    .dataframe tbody tr th:only-of-type {\n",
       "        vertical-align: middle;\n",
       "    }\n",
       "\n",
       "    .dataframe tbody tr th {\n",
       "        vertical-align: top;\n",
       "    }\n",
       "\n",
       "    .dataframe thead th {\n",
       "        text-align: right;\n",
       "    }\n",
       "</style>\n",
       "<table border=\"1\" class=\"dataframe\">\n",
       "  <thead>\n",
       "    <tr style=\"text-align: right;\">\n",
       "      <th></th>\n",
       "      <th>wordnet_id</th>\n",
       "      <th>mean_top1_train_nnm</th>\n",
       "      <th>mean_top1_val_nnm</th>\n",
       "      <th>mean_top5_train_nnm</th>\n",
       "      <th>mean_top5_val_nnm</th>\n",
       "      <th>pred_train_nnm</th>\n",
       "      <th>pred_val_nnm</th>\n",
       "    </tr>\n",
       "  </thead>\n",
       "  <tbody>\n",
       "    <tr>\n",
       "      <th>0</th>\n",
       "      <td>n02025239</td>\n",
       "      <td>0.946154</td>\n",
       "      <td>0.98</td>\n",
       "      <td>0.986923</td>\n",
       "      <td>0.98</td>\n",
       "      <td>[139 139 139 ... 139 139 139]</td>\n",
       "      <td>[139 139 139 139 139 139 139 139 139 139 139 1...</td>\n",
       "    </tr>\n",
       "  </tbody>\n",
       "</table>\n",
       "</div>"
      ],
      "text/plain": [
       "  wordnet_id  mean_top1_train_nnm  mean_top1_val_nnm  mean_top5_train_nnm  \\\n",
       "0  n02025239             0.946154               0.98             0.986923   \n",
       "\n",
       "   mean_top5_val_nnm                 pred_train_nnm  \\\n",
       "0               0.98  [139 139 139 ... 139 139 139]   \n",
       "\n",
       "                                        pred_val_nnm  \n",
       "0  [139 139 139 139 139 139 139 139 139 139 139 1...  "
      ]
     },
     "execution_count": 10,
     "metadata": {},
     "output_type": "execute_result"
    }
   ],
   "source": [
    "df_acc_2=pd.read_csv('./df_imagenet/df_acc_classwise_NasNet_mobile.csv')\n",
    "df_acc_2.head(1)\n",
    "df_acc_2.columns=['wordnet_id',\n",
    " 'mean_top1_train_nnm',\n",
    " 'mean_top1_val_nnm',\n",
    " 'mean_top5_train_nnm',\n",
    " 'mean_top5_val_nnm',\n",
    " 'pred_train_nnm',\n",
    " 'pred_val_nnm']\n",
    "df_acc_2.head(1)"
   ]
  },
  {
   "cell_type": "code",
   "execution_count": 11,
   "metadata": {},
   "outputs": [
    {
     "data": {
      "text/html": [
       "<div>\n",
       "<style scoped>\n",
       "    .dataframe tbody tr th:only-of-type {\n",
       "        vertical-align: middle;\n",
       "    }\n",
       "\n",
       "    .dataframe tbody tr th {\n",
       "        vertical-align: top;\n",
       "    }\n",
       "\n",
       "    .dataframe thead th {\n",
       "        text-align: right;\n",
       "    }\n",
       "</style>\n",
       "<table border=\"1\" class=\"dataframe\">\n",
       "  <thead>\n",
       "    <tr style=\"text-align: right;\">\n",
       "      <th></th>\n",
       "      <th>class_number_umap</th>\n",
       "      <th>wordnet_id</th>\n",
       "      <th>label_renamed_glove</th>\n",
       "      <th>umap_x</th>\n",
       "      <th>umap_y</th>\n",
       "    </tr>\n",
       "  </thead>\n",
       "  <tbody>\n",
       "    <tr>\n",
       "      <th>0</th>\n",
       "      <td>0</td>\n",
       "      <td>n01440764</td>\n",
       "      <td>tench, Tinca tinca</td>\n",
       "      <td>1.277791</td>\n",
       "      <td>8.856661</td>\n",
       "    </tr>\n",
       "  </tbody>\n",
       "</table>\n",
       "</div>"
      ],
      "text/plain": [
       "   class_number_umap wordnet_id label_renamed_glove    umap_x    umap_y\n",
       "0                  0  n01440764  tench, Tinca tinca  1.277791  8.856661"
      ]
     },
     "execution_count": 11,
     "metadata": {},
     "output_type": "execute_result"
    }
   ],
   "source": [
    "df_umap=pd.read_csv('./df_imagenet/df_imagenet_names_umap.csv')\n",
    "df_umap.columns=['class_number_umap', 'wordnet_id', 'label_renamed_glove', 'umap_x', 'umap_y']\n",
    "df_umap.head(1)"
   ]
  },
  {
   "cell_type": "code",
   "execution_count": 12,
   "metadata": {},
   "outputs": [
    {
     "data": {
      "text/plain": [
       "(1000, 61)"
      ]
     },
     "execution_count": 12,
     "metadata": {},
     "output_type": "execute_result"
    }
   ],
   "source": [
    "df_comb=df_inisghtface.merge(df_dex,on=\"wordnet_id\").merge(df_nsfw,on=\"wordnet_id\").merge(df_acc_1,on=\"wordnet_id\").merge(df_acc_2,on=\"wordnet_id\").merge(df_umap,on=\"wordnet_id\")\n",
    "df_comb.shape"
   ]
  },
  {
   "cell_type": "markdown",
   "metadata": {},
   "source": [
    "# Sanity checks:"
   ]
  },
  {
   "cell_type": "code",
   "execution_count": 13,
   "metadata": {},
   "outputs": [
    {
     "data": {
      "text/plain": [
       "(0, 0, 0, 0, 0.0, 8)"
      ]
     },
     "execution_count": 13,
     "metadata": {},
     "output_type": "execute_result"
    }
   ],
   "source": [
    "# Check if N_train in Dex matches with N_train in df_insight face:\n",
    "err_1=np.sum(np.abs(df_comb.n_faceswithages_audit-df_comb.n_faceswithages_audit_2))\n",
    "err_2=np.sum(np.abs(df_inisghtface.n_train-df_comb.n_train_audit))\n",
    "err_3=np.sum(np.abs(df_inisghtface.n_train-df_comb.n_train_audit_2))\n",
    "err_4=np.sum(np.abs(df_comb.n_train_audit-df_comb.n_train_audit_2))\n",
    "\n",
    "err_5=(1-(df_comb.class_number==df_comb.class_number_umap).mean())\n",
    "# I had manually changed the labels for 8 classes because of either duplicates \n",
    "err_6=(df_comb.label!=df_comb.label_renamed_glove).sum()\n",
    "\n",
    "err_1,err_2,err_3,err_4,err_5,err_6"
   ]
  },
  {
   "cell_type": "markdown",
   "metadata": {},
   "source": [
    "# Final column selection:"
   ]
  },
  {
   "cell_type": "code",
   "execution_count": 14,
   "metadata": {},
   "outputs": [
    {
     "data": {
      "text/plain": [
       "['class_number',\n",
       " 'wordnet_id',\n",
       " 'label',\n",
       " 'uri',\n",
       " 'n_train',\n",
       " 'n_val',\n",
       " 'n_humans_train',\n",
       " 'n_humans_val',\n",
       " 'Nunique_humans_train',\n",
       " 'gender_skewness_train',\n",
       " 'age_min_train',\n",
       " 'age_max_train',\n",
       " 'n_women_train',\n",
       " 'mean_age_women_train',\n",
       " 'std_age_women_train',\n",
       " 'n_men_train',\n",
       " 'mean_age_men_train',\n",
       " 'std_age_men_train',\n",
       " 'age_min_val',\n",
       " 'age_max_val',\n",
       " 'Nunique_humans_val',\n",
       " 'gender_skewness_val',\n",
       " 'n_women_val',\n",
       " 'mean_age_women_val',\n",
       " 'std_age_women_val',\n",
       " 'n_men_val',\n",
       " 'mean_age_men_val',\n",
       " 'std_age_men_val',\n",
       " 'age_min',\n",
       " 'age_max',\n",
       " 'n_faces_raw_audit',\n",
       " 'n_faceswithages_audit',\n",
       " 'n_train_audit',\n",
       " 'mean_age_audit',\n",
       " 'std_age_audit',\n",
       " 'skew_age_audit',\n",
       " 'n_faceswithages_audit_2',\n",
       " 'n_train_audit_2',\n",
       " 'mean_gender_audit',\n",
       " 'std_gender_audit',\n",
       " 'skew_gender_audit',\n",
       " 'mean_nsfw_train',\n",
       " 'mean_nsfw_val',\n",
       " 'std_nsfw_train',\n",
       " 'std_nsfw_val',\n",
       " 'mean_top1_train_r50',\n",
       " 'mean_top1_val_r50',\n",
       " 'mean_top5_train_r50',\n",
       " 'mean_top5_val_r50',\n",
       " 'pred_train_r50',\n",
       " 'pred_val_r50',\n",
       " 'mean_top1_train_nnm',\n",
       " 'mean_top1_val_nnm',\n",
       " 'mean_top5_train_nnm',\n",
       " 'mean_top5_val_nnm',\n",
       " 'pred_train_nnm',\n",
       " 'pred_val_nnm',\n",
       " 'class_number_umap',\n",
       " 'label_renamed_glove',\n",
       " 'umap_x',\n",
       " 'umap_y']"
      ]
     },
     "execution_count": 14,
     "metadata": {},
     "output_type": "execute_result"
    }
   ],
   "source": [
    "list(df_comb.columns)"
   ]
  },
  {
   "cell_type": "markdown",
   "metadata": {},
   "source": [
    "# Interpretations:\n",
    "\n",
    "We have authored interpretations for each of the columns of the dataframe generated above.\n",
    "Load the dataframe and verify if the columns spaces match."
   ]
  },
  {
   "cell_type": "code",
   "execution_count": 15,
   "metadata": {},
   "outputs": [
    {
     "data": {
      "text/plain": [
       "(61, 2)"
      ]
     },
     "execution_count": 15,
     "metadata": {},
     "output_type": "execute_result"
    }
   ],
   "source": [
    "df_interpret=pd.read_csv('./df_imagenet/df_census_columns_interpretation.csv')\n",
    "df_interpret.shape"
   ]
  },
  {
   "cell_type": "code",
   "execution_count": 16,
   "metadata": {},
   "outputs": [
    {
     "data": {
      "text/plain": [
       "1.0"
      ]
     },
     "execution_count": 16,
     "metadata": {},
     "output_type": "execute_result"
    }
   ],
   "source": [
    "(df_interpret.col_names_census==df_comb.columns).mean()"
   ]
  },
  {
   "cell_type": "markdown",
   "metadata": {},
   "source": [
    "# Final export:"
   ]
  },
  {
   "cell_type": "code",
   "execution_count": 17,
   "metadata": {},
   "outputs": [],
   "source": [
    "df_comb.to_csv('df_census_imagenet_61.csv',index=False)"
   ]
  }
 ],
 "metadata": {
  "kernelspec": {
   "display_name": "Python 3",
   "language": "python",
   "name": "python3"
  },
  "language_info": {
   "codemirror_mode": {
    "name": "ipython",
    "version": 3
   },
   "file_extension": ".py",
   "mimetype": "text/x-python",
   "name": "python",
   "nbconvert_exporter": "python",
   "pygments_lexer": "ipython3",
   "version": "3.7.6"
  }
 },
 "nbformat": 4,
 "nbformat_minor": 4
}
