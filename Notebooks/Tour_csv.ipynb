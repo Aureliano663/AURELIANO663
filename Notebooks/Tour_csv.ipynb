{
 "cells": [
  {
   "cell_type": "markdown",
   "metadata": {},
   "source": [
    "# Purpose:\n",
    "\n",
    "This notebooks takes you through a tour of all the CSVs generated during the dataset audit process."
   ]
  },
  {
   "cell_type": "code",
   "execution_count": 1,
   "metadata": {},
   "outputs": [
    {
     "data": {
      "text/html": [
       "<style>.container { width:100% !important; }</style>"
      ],
      "text/plain": [
       "<IPython.core.display.HTML object>"
      ]
     },
     "metadata": {},
     "output_type": "display_data"
    }
   ],
   "source": [
    "from IPython.core.display import display, HTML\n",
    "display(HTML(\"<style>.container { width:100% !important; }</style>\"))\n",
    "\n",
    "import pandas as pd\n",
    "import os"
   ]
  },
  {
   "cell_type": "code",
   "execution_count": 2,
   "metadata": {},
   "outputs": [],
   "source": [
    "list_census=['df_insightface_stats.csv',\n",
    "'df_audit_age_gender_dex.csv',\n",
    "'df_nsfw.csv',\n",
    "'df_acc_classwise_resnet50.csv',\n",
    "'df_acc_classwise_NasNet_mobile.csv',\n",
    "'df_imagenet_names_umap.csv',\n",
    "'df_census_imagenet_61.csv',\n",
    "'df_census_columns_interpretation.csv',\n",
    "'df_hand_survey.csv' ]\n",
    "\n",
    "list_tiny=['df_classes_tiny_images_3.csv']\n",
    "\n",
    "list_dog=['df_dog_analysis.csv',\n",
    "'dogs_imagenet.csv',\n",
    "'df_dog_groups.csv']\n",
    "\n",
    "list_misc=['df_imagenet_stats.csv',\n",
    "'df_imagenet_census.csv',\n",
    "'df_imagenet_classes.csv',\n",
    "'df_imagenet_renamed.csv',\n",
    "'df_imagenet_names_umap.csv',\n",
    "'df_comb_umap.csv']"
   ]
  },
  {
   "cell_type": "code",
   "execution_count": 3,
   "metadata": {},
   "outputs": [],
   "source": [
    "csv_dir='..\\DATA\\csv'"
   ]
  },
  {
   "cell_type": "markdown",
   "metadata": {},
   "source": [
    "# 1: Census files\n",
    "\n",
    "'df_insightface_stats.csv',\n",
    "'df_audit_age_gender_dex.csv',\n",
    "'df_nsfw.csv',\n",
    "'df_acc_classwise_resnet50.csv',\n",
    "'df_acc_classwise_NasNet_mobile.csv',\n",
    "'df_imagenet_names_umap.csv',\n",
    "'df_census_imagenet_61.csv',\n",
    "'df_census_columns_interpretation.csv',\n",
    "'df_hand_survey.csv' \n",
    "\n",
    "(The meaning of the parameters in the colunns of the dataframes are all explained in 'df_census_columns_interpretation.csv')"
   ]
  },
  {
   "cell_type": "code",
   "execution_count": 4,
   "metadata": {},
   "outputs": [
    {
     "name": "stdout",
     "output_type": "stream",
     "text": [
      "(1000, 30)\n"
     ]
    },
    {
     "data": {
      "text/html": [
       "<div>\n",
       "<style scoped>\n",
       "    .dataframe tbody tr th:only-of-type {\n",
       "        vertical-align: middle;\n",
       "    }\n",
       "\n",
       "    .dataframe tbody tr th {\n",
       "        vertical-align: top;\n",
       "    }\n",
       "\n",
       "    .dataframe thead th {\n",
       "        text-align: right;\n",
       "    }\n",
       "</style>\n",
       "<table border=\"1\" class=\"dataframe\">\n",
       "  <thead>\n",
       "    <tr style=\"text-align: right;\">\n",
       "      <th></th>\n",
       "      <th>class_number</th>\n",
       "      <th>wordnet_id</th>\n",
       "      <th>label</th>\n",
       "      <th>uri</th>\n",
       "      <th>n_train</th>\n",
       "      <th>n_val</th>\n",
       "      <th>n_humans_train</th>\n",
       "      <th>n_humans_val</th>\n",
       "      <th>Nunique_humans_train</th>\n",
       "      <th>gender_skewness_train</th>\n",
       "      <th>...</th>\n",
       "      <th>Nunique_humans_val</th>\n",
       "      <th>gender_skewness_val</th>\n",
       "      <th>n_women_val</th>\n",
       "      <th>mean_age_women_val</th>\n",
       "      <th>std_age_women_val</th>\n",
       "      <th>n_men_val</th>\n",
       "      <th>mean_age_men_val</th>\n",
       "      <th>std_age_men_val</th>\n",
       "      <th>age_min</th>\n",
       "      <th>age_max</th>\n",
       "    </tr>\n",
       "  </thead>\n",
       "  <tbody>\n",
       "    <tr>\n",
       "      <th>0</th>\n",
       "      <td>0</td>\n",
       "      <td>n01440764</td>\n",
       "      <td>tench, Tinca tinca</td>\n",
       "      <td>http://wordnet-rdf.princeton.edu/wn30/01440764-n</td>\n",
       "      <td>1300</td>\n",
       "      <td>50</td>\n",
       "      <td>779</td>\n",
       "      <td>22</td>\n",
       "      <td>794</td>\n",
       "      <td>-2.187542</td>\n",
       "      <td>...</td>\n",
       "      <td>22</td>\n",
       "      <td>-1.649916</td>\n",
       "      <td>4.0</td>\n",
       "      <td>24.25</td>\n",
       "      <td>6.849574</td>\n",
       "      <td>18.0</td>\n",
       "      <td>38.611111</td>\n",
       "      <td>8.513926</td>\n",
       "      <td>18.0</td>\n",
       "      <td>59.0</td>\n",
       "    </tr>\n",
       "    <tr>\n",
       "      <th>1</th>\n",
       "      <td>1</td>\n",
       "      <td>n01443537</td>\n",
       "      <td>goldfish, Carassius auratus</td>\n",
       "      <td>http://wordnet-rdf.princeton.edu/wn30/01443537-n</td>\n",
       "      <td>1300</td>\n",
       "      <td>50</td>\n",
       "      <td>8</td>\n",
       "      <td>1</td>\n",
       "      <td>8</td>\n",
       "      <td>-0.516398</td>\n",
       "      <td>...</td>\n",
       "      <td>1</td>\n",
       "      <td>0.000000</td>\n",
       "      <td>NaN</td>\n",
       "      <td>NaN</td>\n",
       "      <td>NaN</td>\n",
       "      <td>1.0</td>\n",
       "      <td>24.000000</td>\n",
       "      <td>NaN</td>\n",
       "      <td>14.0</td>\n",
       "      <td>41.0</td>\n",
       "    </tr>\n",
       "  </tbody>\n",
       "</table>\n",
       "<p>2 rows × 30 columns</p>\n",
       "</div>"
      ],
      "text/plain": [
       "   class_number wordnet_id                        label  \\\n",
       "0             0  n01440764           tench, Tinca tinca   \n",
       "1             1  n01443537  goldfish, Carassius auratus   \n",
       "\n",
       "                                                uri  n_train  n_val  \\\n",
       "0  http://wordnet-rdf.princeton.edu/wn30/01440764-n     1300     50   \n",
       "1  http://wordnet-rdf.princeton.edu/wn30/01443537-n     1300     50   \n",
       "\n",
       "   n_humans_train  n_humans_val  Nunique_humans_train  gender_skewness_train  \\\n",
       "0             779            22                   794              -2.187542   \n",
       "1               8             1                     8              -0.516398   \n",
       "\n",
       "   ...  Nunique_humans_val  gender_skewness_val  n_women_val  \\\n",
       "0  ...                  22            -1.649916          4.0   \n",
       "1  ...                   1             0.000000          NaN   \n",
       "\n",
       "   mean_age_women_val  std_age_women_val  n_men_val  mean_age_men_val  \\\n",
       "0               24.25           6.849574       18.0         38.611111   \n",
       "1                 NaN                NaN        1.0         24.000000   \n",
       "\n",
       "   std_age_men_val  age_min  age_max  \n",
       "0         8.513926     18.0     59.0  \n",
       "1              NaN     14.0     41.0  \n",
       "\n",
       "[2 rows x 30 columns]"
      ]
     },
     "execution_count": 4,
     "metadata": {},
     "output_type": "execute_result"
    }
   ],
   "source": [
    "# 1: 24 classwise statistical parameters obtained by running the InsightFace model on the ImageNet dataset\n",
    "df=pd.read_csv(os.path.join(csv_dir,'df_insightface_stats.csv'))\n",
    "print(df.shape)\n",
    "df.head(2)"
   ]
  },
  {
   "cell_type": "code",
   "execution_count": 5,
   "metadata": {},
   "outputs": [
    {
     "name": "stdout",
     "output_type": "stream",
     "text": [
      "(1000, 12)\n"
     ]
    },
    {
     "data": {
      "text/html": [
       "<div>\n",
       "<style scoped>\n",
       "    .dataframe tbody tr th:only-of-type {\n",
       "        vertical-align: middle;\n",
       "    }\n",
       "\n",
       "    .dataframe tbody tr th {\n",
       "        vertical-align: top;\n",
       "    }\n",
       "\n",
       "    .dataframe thead th {\n",
       "        text-align: right;\n",
       "    }\n",
       "</style>\n",
       "<table border=\"1\" class=\"dataframe\">\n",
       "  <thead>\n",
       "    <tr style=\"text-align: right;\">\n",
       "      <th></th>\n",
       "      <th>wordnet_id</th>\n",
       "      <th>n_faces_raw_audit</th>\n",
       "      <th>n_faceswithages_audit</th>\n",
       "      <th>n_train_audit</th>\n",
       "      <th>mean_age_audit</th>\n",
       "      <th>std_age_audit</th>\n",
       "      <th>skew_age_audit</th>\n",
       "      <th>n_faceswithages_audit_2</th>\n",
       "      <th>n_train_audit_2</th>\n",
       "      <th>mean_gender_audit</th>\n",
       "      <th>std_gender_audit</th>\n",
       "      <th>skew_gender_audit</th>\n",
       "    </tr>\n",
       "  </thead>\n",
       "  <tbody>\n",
       "    <tr>\n",
       "      <th>0</th>\n",
       "      <td>n01440764</td>\n",
       "      <td>2824</td>\n",
       "      <td>789</td>\n",
       "      <td>1300</td>\n",
       "      <td>35.576593</td>\n",
       "      <td>13.375839</td>\n",
       "      <td>0.096840</td>\n",
       "      <td>789</td>\n",
       "      <td>1300</td>\n",
       "      <td>0.911870</td>\n",
       "      <td>0.241729</td>\n",
       "      <td>-2.977989</td>\n",
       "    </tr>\n",
       "    <tr>\n",
       "      <th>1</th>\n",
       "      <td>n01443537</td>\n",
       "      <td>3307</td>\n",
       "      <td>10</td>\n",
       "      <td>1300</td>\n",
       "      <td>29.425552</td>\n",
       "      <td>15.690300</td>\n",
       "      <td>0.962499</td>\n",
       "      <td>10</td>\n",
       "      <td>1300</td>\n",
       "      <td>0.573201</td>\n",
       "      <td>0.364169</td>\n",
       "      <td>-0.208323</td>\n",
       "    </tr>\n",
       "  </tbody>\n",
       "</table>\n",
       "</div>"
      ],
      "text/plain": [
       "  wordnet_id  n_faces_raw_audit  n_faceswithages_audit  n_train_audit  \\\n",
       "0  n01440764               2824                    789           1300   \n",
       "1  n01443537               3307                     10           1300   \n",
       "\n",
       "   mean_age_audit  std_age_audit  skew_age_audit  n_faceswithages_audit_2  \\\n",
       "0       35.576593      13.375839        0.096840                      789   \n",
       "1       29.425552      15.690300        0.962499                       10   \n",
       "\n",
       "   n_train_audit_2  mean_gender_audit  std_gender_audit  skew_gender_audit  \n",
       "0             1300           0.911870          0.241729          -2.977989  \n",
       "1             1300           0.573201          0.364169          -0.208323  "
      ]
     },
     "execution_count": 5,
     "metadata": {},
     "output_type": "execute_result"
    }
   ],
   "source": [
    "# 2: 11 classwise (ordered by the wordnet-id) statistical parameters obtained from the json files (of the DEX paper)\n",
    "# Dulhanty C, Wong A. Auditing imagenet: Towards a model-driven framework for annotating demographic attributes of large-scale image datasets. arXiv preprint arXiv:1905.01347. 2019 May 3.\n",
    "df=pd.read_csv(os.path.join(csv_dir,'df_audit_age_gender_dex.csv'))\n",
    "print(df.shape)\n",
    "df.head(2)"
   ]
  },
  {
   "cell_type": "code",
   "execution_count": 6,
   "metadata": {},
   "outputs": [
    {
     "name": "stdout",
     "output_type": "stream",
     "text": [
      "(1000, 5)\n"
     ]
    },
    {
     "data": {
      "text/html": [
       "<div>\n",
       "<style scoped>\n",
       "    .dataframe tbody tr th:only-of-type {\n",
       "        vertical-align: middle;\n",
       "    }\n",
       "\n",
       "    .dataframe tbody tr th {\n",
       "        vertical-align: top;\n",
       "    }\n",
       "\n",
       "    .dataframe thead th {\n",
       "        text-align: right;\n",
       "    }\n",
       "</style>\n",
       "<table border=\"1\" class=\"dataframe\">\n",
       "  <thead>\n",
       "    <tr style=\"text-align: right;\">\n",
       "      <th></th>\n",
       "      <th>Unnamed: 0</th>\n",
       "      <th>mean_nsfw_train</th>\n",
       "      <th>mean_nsfw_val</th>\n",
       "      <th>std_nsfw_train</th>\n",
       "      <th>std_nsfw_val</th>\n",
       "    </tr>\n",
       "  </thead>\n",
       "  <tbody>\n",
       "    <tr>\n",
       "      <th>0</th>\n",
       "      <td>n02025239</td>\n",
       "      <td>0.011244</td>\n",
       "      <td>0.007649</td>\n",
       "      <td>0.042218</td>\n",
       "      <td>0.021405</td>\n",
       "    </tr>\n",
       "    <tr>\n",
       "      <th>1</th>\n",
       "      <td>n03832673</td>\n",
       "      <td>0.061136</td>\n",
       "      <td>0.042006</td>\n",
       "      <td>0.161923</td>\n",
       "      <td>0.126700</td>\n",
       "    </tr>\n",
       "  </tbody>\n",
       "</table>\n",
       "</div>"
      ],
      "text/plain": [
       "  Unnamed: 0  mean_nsfw_train  mean_nsfw_val  std_nsfw_train  std_nsfw_val\n",
       "0  n02025239         0.011244       0.007649        0.042218      0.021405\n",
       "1  n03832673         0.061136       0.042006        0.161923      0.126700"
      ]
     },
     "execution_count": 6,
     "metadata": {},
     "output_type": "execute_result"
    }
   ],
   "source": [
    "# 3: The mean and std of the NSFW scores of the train and val images arranged per-class. (Unnamed: 0: WordNetID of the class)\n",
    "df=pd.read_csv(os.path.join(csv_dir,'df_nsfw.csv'))\n",
    "print(df.shape)\n",
    "df.head(2)"
   ]
  },
  {
   "cell_type": "code",
   "execution_count": 7,
   "metadata": {},
   "outputs": [
    {
     "name": "stdout",
     "output_type": "stream",
     "text": [
      "(1000, 7)\n"
     ]
    },
    {
     "data": {
      "text/html": [
       "<div>\n",
       "<style scoped>\n",
       "    .dataframe tbody tr th:only-of-type {\n",
       "        vertical-align: middle;\n",
       "    }\n",
       "\n",
       "    .dataframe tbody tr th {\n",
       "        vertical-align: top;\n",
       "    }\n",
       "\n",
       "    .dataframe thead th {\n",
       "        text-align: right;\n",
       "    }\n",
       "</style>\n",
       "<table border=\"1\" class=\"dataframe\">\n",
       "  <thead>\n",
       "    <tr style=\"text-align: right;\">\n",
       "      <th></th>\n",
       "      <th>Unnamed: 0</th>\n",
       "      <th>mean_top1_train</th>\n",
       "      <th>mean_top1_val</th>\n",
       "      <th>mean_top5_train</th>\n",
       "      <th>mean_top5_val</th>\n",
       "      <th>pred_train</th>\n",
       "      <th>pred_val</th>\n",
       "    </tr>\n",
       "  </thead>\n",
       "  <tbody>\n",
       "    <tr>\n",
       "      <th>0</th>\n",
       "      <td>n02025239</td>\n",
       "      <td>0.940769</td>\n",
       "      <td>0.96</td>\n",
       "      <td>0.983077</td>\n",
       "      <td>0.98</td>\n",
       "      <td>[139 139 139 ... 139 139 139]</td>\n",
       "      <td>[140 139 139 139 139 139 139 139 139 139 139 1...</td>\n",
       "    </tr>\n",
       "    <tr>\n",
       "      <th>1</th>\n",
       "      <td>n03832673</td>\n",
       "      <td>0.530000</td>\n",
       "      <td>0.12</td>\n",
       "      <td>0.870769</td>\n",
       "      <td>0.78</td>\n",
       "      <td>[620 620 620 ... 284 532 681]</td>\n",
       "      <td>[592 620 620 508 620 633 982 681 662 620 620 6...</td>\n",
       "    </tr>\n",
       "  </tbody>\n",
       "</table>\n",
       "</div>"
      ],
      "text/plain": [
       "  Unnamed: 0  mean_top1_train  mean_top1_val  mean_top5_train  mean_top5_val  \\\n",
       "0  n02025239         0.940769           0.96         0.983077           0.98   \n",
       "1  n03832673         0.530000           0.12         0.870769           0.78   \n",
       "\n",
       "                      pred_train  \\\n",
       "0  [139 139 139 ... 139 139 139]   \n",
       "1  [620 620 620 ... 284 532 681]   \n",
       "\n",
       "                                            pred_val  \n",
       "0  [140 139 139 139 139 139 139 139 139 139 139 1...  \n",
       "1  [592 620 620 508 620 633 982 681 662 620 620 6...  "
      ]
     },
     "execution_count": 7,
     "metadata": {},
     "output_type": "execute_result"
    }
   ],
   "source": [
    "# 4: Classwise accuracy metrics obtained by running the ResNet50 model on ImageNet train and Val sets\n",
    "df=pd.read_csv(os.path.join(csv_dir,'df_acc_classwise_resnet50.csv'))\n",
    "print(df.shape)\n",
    "df.head(2)"
   ]
  },
  {
   "cell_type": "code",
   "execution_count": 8,
   "metadata": {},
   "outputs": [
    {
     "name": "stdout",
     "output_type": "stream",
     "text": [
      "(1000, 7)\n"
     ]
    },
    {
     "data": {
      "text/html": [
       "<div>\n",
       "<style scoped>\n",
       "    .dataframe tbody tr th:only-of-type {\n",
       "        vertical-align: middle;\n",
       "    }\n",
       "\n",
       "    .dataframe tbody tr th {\n",
       "        vertical-align: top;\n",
       "    }\n",
       "\n",
       "    .dataframe thead th {\n",
       "        text-align: right;\n",
       "    }\n",
       "</style>\n",
       "<table border=\"1\" class=\"dataframe\">\n",
       "  <thead>\n",
       "    <tr style=\"text-align: right;\">\n",
       "      <th></th>\n",
       "      <th>Unnamed: 0</th>\n",
       "      <th>mean_top1_train</th>\n",
       "      <th>mean_top1_val</th>\n",
       "      <th>mean_top5_train</th>\n",
       "      <th>mean_top5_val</th>\n",
       "      <th>pred_train</th>\n",
       "      <th>pred_val</th>\n",
       "    </tr>\n",
       "  </thead>\n",
       "  <tbody>\n",
       "    <tr>\n",
       "      <th>0</th>\n",
       "      <td>n02025239</td>\n",
       "      <td>0.946154</td>\n",
       "      <td>0.98</td>\n",
       "      <td>0.986923</td>\n",
       "      <td>0.98</td>\n",
       "      <td>[139 139 139 ... 139 139 139]</td>\n",
       "      <td>[139 139 139 139 139 139 139 139 139 139 139 1...</td>\n",
       "    </tr>\n",
       "    <tr>\n",
       "      <th>1</th>\n",
       "      <td>n03832673</td>\n",
       "      <td>0.559231</td>\n",
       "      <td>0.38</td>\n",
       "      <td>0.901538</td>\n",
       "      <td>0.80</td>\n",
       "      <td>[681 620 681 ... 332 681 681]</td>\n",
       "      <td>[662 620 681 508 620 620 534 681 662 681 681 6...</td>\n",
       "    </tr>\n",
       "  </tbody>\n",
       "</table>\n",
       "</div>"
      ],
      "text/plain": [
       "  Unnamed: 0  mean_top1_train  mean_top1_val  mean_top5_train  mean_top5_val  \\\n",
       "0  n02025239         0.946154           0.98         0.986923           0.98   \n",
       "1  n03832673         0.559231           0.38         0.901538           0.80   \n",
       "\n",
       "                      pred_train  \\\n",
       "0  [139 139 139 ... 139 139 139]   \n",
       "1  [681 620 681 ... 332 681 681]   \n",
       "\n",
       "                                            pred_val  \n",
       "0  [139 139 139 139 139 139 139 139 139 139 139 1...  \n",
       "1  [662 620 681 508 620 620 534 681 662 681 681 6...  "
      ]
     },
     "execution_count": 8,
     "metadata": {},
     "output_type": "execute_result"
    }
   ],
   "source": [
    "# 5: Classwise accuracy metrics (& the imagelevel preds) obtained by running the NasNet model on ImageNet train and Val sets\n",
    "df=pd.read_csv(os.path.join(csv_dir,'df_acc_classwise_NasNet_mobile.csv'))\n",
    "print(df.shape)\n",
    "df.head(2)"
   ]
  },
  {
   "cell_type": "code",
   "execution_count": 9,
   "metadata": {},
   "outputs": [
    {
     "name": "stdout",
     "output_type": "stream",
     "text": [
      "(1000, 5)\n"
     ]
    },
    {
     "data": {
      "text/html": [
       "<div>\n",
       "<style scoped>\n",
       "    .dataframe tbody tr th:only-of-type {\n",
       "        vertical-align: middle;\n",
       "    }\n",
       "\n",
       "    .dataframe tbody tr th {\n",
       "        vertical-align: top;\n",
       "    }\n",
       "\n",
       "    .dataframe thead th {\n",
       "        text-align: right;\n",
       "    }\n",
       "</style>\n",
       "<table border=\"1\" class=\"dataframe\">\n",
       "  <thead>\n",
       "    <tr style=\"text-align: right;\">\n",
       "      <th></th>\n",
       "      <th>class_number</th>\n",
       "      <th>wordnet_id</th>\n",
       "      <th>label</th>\n",
       "      <th>umap_x</th>\n",
       "      <th>umap_y</th>\n",
       "    </tr>\n",
       "  </thead>\n",
       "  <tbody>\n",
       "    <tr>\n",
       "      <th>0</th>\n",
       "      <td>0</td>\n",
       "      <td>n01440764</td>\n",
       "      <td>tench, Tinca tinca</td>\n",
       "      <td>1.277791</td>\n",
       "      <td>8.856661</td>\n",
       "    </tr>\n",
       "    <tr>\n",
       "      <th>1</th>\n",
       "      <td>1</td>\n",
       "      <td>n01443537</td>\n",
       "      <td>goldfish, Carassius auratus</td>\n",
       "      <td>1.314007</td>\n",
       "      <td>8.638370</td>\n",
       "    </tr>\n",
       "  </tbody>\n",
       "</table>\n",
       "</div>"
      ],
      "text/plain": [
       "   class_number wordnet_id                        label    umap_x    umap_y\n",
       "0             0  n01440764           tench, Tinca tinca  1.277791  8.856661\n",
       "1             1  n01443537  goldfish, Carassius auratus  1.314007  8.638370"
      ]
     },
     "execution_count": 9,
     "metadata": {},
     "output_type": "execute_result"
    }
   ],
   "source": [
    "# 6: DF with 2D UMAP embeddings of the Glove vectors of the classes of the ImageNet dataset\n",
    "df=pd.read_csv(os.path.join(csv_dir,'df_imagenet_names_umap.csv'))\n",
    "print(df.shape)\n",
    "df.head(2)"
   ]
  },
  {
   "cell_type": "code",
   "execution_count": 10,
   "metadata": {},
   "outputs": [
    {
     "name": "stdout",
     "output_type": "stream",
     "text": [
      "(1000, 61)\n"
     ]
    },
    {
     "data": {
      "text/html": [
       "<div>\n",
       "<style scoped>\n",
       "    .dataframe tbody tr th:only-of-type {\n",
       "        vertical-align: middle;\n",
       "    }\n",
       "\n",
       "    .dataframe tbody tr th {\n",
       "        vertical-align: top;\n",
       "    }\n",
       "\n",
       "    .dataframe thead th {\n",
       "        text-align: right;\n",
       "    }\n",
       "</style>\n",
       "<table border=\"1\" class=\"dataframe\">\n",
       "  <thead>\n",
       "    <tr style=\"text-align: right;\">\n",
       "      <th></th>\n",
       "      <th>class_number</th>\n",
       "      <th>wordnet_id</th>\n",
       "      <th>label</th>\n",
       "      <th>uri</th>\n",
       "      <th>n_train</th>\n",
       "      <th>n_val</th>\n",
       "      <th>n_humans_train</th>\n",
       "      <th>n_humans_val</th>\n",
       "      <th>Nunique_humans_train</th>\n",
       "      <th>gender_skewness_train</th>\n",
       "      <th>...</th>\n",
       "      <th>mean_top1_train_nnm</th>\n",
       "      <th>mean_top1_val_nnm</th>\n",
       "      <th>mean_top5_train_nnm</th>\n",
       "      <th>mean_top5_val_nnm</th>\n",
       "      <th>pred_train_nnm</th>\n",
       "      <th>pred_val_nnm</th>\n",
       "      <th>class_number_umap</th>\n",
       "      <th>label_renamed_glove</th>\n",
       "      <th>umap_x</th>\n",
       "      <th>umap_y</th>\n",
       "    </tr>\n",
       "  </thead>\n",
       "  <tbody>\n",
       "    <tr>\n",
       "      <th>0</th>\n",
       "      <td>0</td>\n",
       "      <td>n01440764</td>\n",
       "      <td>tench, Tinca tinca</td>\n",
       "      <td>http://wordnet-rdf.princeton.edu/wn30/01440764-n</td>\n",
       "      <td>1300</td>\n",
       "      <td>50</td>\n",
       "      <td>779</td>\n",
       "      <td>22</td>\n",
       "      <td>794</td>\n",
       "      <td>-2.187542</td>\n",
       "      <td>...</td>\n",
       "      <td>0.922308</td>\n",
       "      <td>0.86</td>\n",
       "      <td>0.982308</td>\n",
       "      <td>0.92</td>\n",
       "      <td>[  0 389   0 ...   0 391   0]</td>\n",
       "      <td>[  0   0   0   0   0  30   0 391   0   0   0  ...</td>\n",
       "      <td>0</td>\n",
       "      <td>tench, Tinca tinca</td>\n",
       "      <td>1.277791</td>\n",
       "      <td>8.856661</td>\n",
       "    </tr>\n",
       "    <tr>\n",
       "      <th>1</th>\n",
       "      <td>1</td>\n",
       "      <td>n01443537</td>\n",
       "      <td>goldfish, Carassius auratus</td>\n",
       "      <td>http://wordnet-rdf.princeton.edu/wn30/01443537-n</td>\n",
       "      <td>1300</td>\n",
       "      <td>50</td>\n",
       "      <td>8</td>\n",
       "      <td>1</td>\n",
       "      <td>8</td>\n",
       "      <td>-0.516398</td>\n",
       "      <td>...</td>\n",
       "      <td>0.943077</td>\n",
       "      <td>0.78</td>\n",
       "      <td>0.976154</td>\n",
       "      <td>0.92</td>\n",
       "      <td>[392   1   1 ...   1   1   1]</td>\n",
       "      <td>[  1 983   1   1   1   1   1 328   1   1  88  ...</td>\n",
       "      <td>1</td>\n",
       "      <td>goldfish, Carassius auratus</td>\n",
       "      <td>1.314007</td>\n",
       "      <td>8.638370</td>\n",
       "    </tr>\n",
       "  </tbody>\n",
       "</table>\n",
       "<p>2 rows × 61 columns</p>\n",
       "</div>"
      ],
      "text/plain": [
       "   class_number wordnet_id                        label  \\\n",
       "0             0  n01440764           tench, Tinca tinca   \n",
       "1             1  n01443537  goldfish, Carassius auratus   \n",
       "\n",
       "                                                uri  n_train  n_val  \\\n",
       "0  http://wordnet-rdf.princeton.edu/wn30/01440764-n     1300     50   \n",
       "1  http://wordnet-rdf.princeton.edu/wn30/01443537-n     1300     50   \n",
       "\n",
       "   n_humans_train  n_humans_val  Nunique_humans_train  gender_skewness_train  \\\n",
       "0             779            22                   794              -2.187542   \n",
       "1               8             1                     8              -0.516398   \n",
       "\n",
       "   ...  mean_top1_train_nnm  mean_top1_val_nnm  mean_top5_train_nnm  \\\n",
       "0  ...             0.922308               0.86             0.982308   \n",
       "1  ...             0.943077               0.78             0.976154   \n",
       "\n",
       "   mean_top5_val_nnm                 pred_train_nnm  \\\n",
       "0               0.92  [  0 389   0 ...   0 391   0]   \n",
       "1               0.92  [392   1   1 ...   1   1   1]   \n",
       "\n",
       "                                        pred_val_nnm  class_number_umap  \\\n",
       "0  [  0   0   0   0   0  30   0 391   0   0   0  ...                  0   \n",
       "1  [  1 983   1   1   1   1   1 328   1   1  88  ...                  1   \n",
       "\n",
       "           label_renamed_glove    umap_x    umap_y  \n",
       "0           tench, Tinca tinca  1.277791  8.856661  \n",
       "1  goldfish, Carassius auratus  1.314007  8.638370  \n",
       "\n",
       "[2 rows x 61 columns]"
      ]
     },
     "execution_count": 10,
     "metadata": {},
     "output_type": "execute_result"
    }
   ],
   "source": [
    "# 7: The MAIN census dataframe covering class-wise metrics across 61 parameters, all of which are explained in df_census_columns_interpretation.csv\n",
    "df_census=pd.read_csv(os.path.join(csv_dir,'df_census_imagenet_61.csv'))\n",
    "print(df_census.shape)\n",
    "df_census.head(2)"
   ]
  },
  {
   "cell_type": "code",
   "execution_count": 11,
   "metadata": {},
   "outputs": [
    {
     "name": "stdout",
     "output_type": "stream",
     "text": [
      "(61, 2)\n"
     ]
    },
    {
     "data": {
      "text/html": [
       "<div>\n",
       "<style scoped>\n",
       "    .dataframe tbody tr th:only-of-type {\n",
       "        vertical-align: middle;\n",
       "    }\n",
       "\n",
       "    .dataframe tbody tr th {\n",
       "        vertical-align: top;\n",
       "    }\n",
       "\n",
       "    .dataframe thead th {\n",
       "        text-align: right;\n",
       "    }\n",
       "</style>\n",
       "<table border=\"1\" class=\"dataframe\">\n",
       "  <thead>\n",
       "    <tr style=\"text-align: right;\">\n",
       "      <th></th>\n",
       "      <th>col_names_census</th>\n",
       "      <th>Interpretation</th>\n",
       "    </tr>\n",
       "  </thead>\n",
       "  <tbody>\n",
       "    <tr>\n",
       "      <th>0</th>\n",
       "      <td>class_number</td>\n",
       "      <td>ImageNet class number (0-990)</td>\n",
       "    </tr>\n",
       "    <tr>\n",
       "      <th>1</th>\n",
       "      <td>wordnet_id</td>\n",
       "      <td>To uniquely identify a synset ImageNet uses Wo...</td>\n",
       "    </tr>\n",
       "  </tbody>\n",
       "</table>\n",
       "</div>"
      ],
      "text/plain": [
       "  col_names_census                                     Interpretation\n",
       "0     class_number                      ImageNet class number (0-990)\n",
       "1       wordnet_id  To uniquely identify a synset ImageNet uses Wo..."
      ]
     },
     "execution_count": 11,
     "metadata": {},
     "output_type": "execute_result"
    }
   ],
   "source": [
    "# 8: The interpretations of the 61 metrics of the the census dataframe above!\n",
    "df=pd.read_csv(os.path.join(csv_dir,'df_census_columns_interpretation.csv'))\n",
    "print(df.shape)\n",
    "df.head(2)"
   ]
  },
  {
   "cell_type": "code",
   "execution_count": 12,
   "metadata": {},
   "outputs": [
    {
     "data": {
      "text/plain": [
       "1.0"
      ]
     },
     "execution_count": 12,
     "metadata": {},
     "output_type": "execute_result"
    }
   ],
   "source": [
    "# Demonstrating the match between the 61 columns of df_census and the rows of df_census_columns_interpretation\n",
    "(df.col_names_census==df_census.columns).mean()"
   ]
  },
  {
   "cell_type": "code",
   "execution_count": 13,
   "metadata": {},
   "outputs": [
    {
     "name": "stdout",
     "output_type": "stream",
     "text": [
      "(61, 3)\n"
     ]
    },
    {
     "data": {
      "text/html": [
       "<div>\n",
       "<style scoped>\n",
       "    .dataframe tbody tr th:only-of-type {\n",
       "        vertical-align: middle;\n",
       "    }\n",
       "\n",
       "    .dataframe tbody tr th {\n",
       "        vertical-align: top;\n",
       "    }\n",
       "\n",
       "    .dataframe thead th {\n",
       "        text-align: right;\n",
       "    }\n",
       "</style>\n",
       "<table border=\"1\" class=\"dataframe\">\n",
       "  <thead>\n",
       "    <tr style=\"text-align: right;\">\n",
       "      <th></th>\n",
       "      <th>wordnet_id</th>\n",
       "      <th>category</th>\n",
       "      <th>file_names</th>\n",
       "    </tr>\n",
       "  </thead>\n",
       "  <tbody>\n",
       "    <tr>\n",
       "      <th>0</th>\n",
       "      <td>n03710637</td>\n",
       "      <td>beach_voyeur</td>\n",
       "      <td>ILSVRC2012_val_00021081.JPEG</td>\n",
       "    </tr>\n",
       "    <tr>\n",
       "      <th>1</th>\n",
       "      <td>n02837789</td>\n",
       "      <td>beach_voyeur</td>\n",
       "      <td>n02837789_11383.JPEG</td>\n",
       "    </tr>\n",
       "  </tbody>\n",
       "</table>\n",
       "</div>"
      ],
      "text/plain": [
       "  wordnet_id      category                    file_names\n",
       "0  n03710637  beach_voyeur  ILSVRC2012_val_00021081.JPEG\n",
       "1  n02837789  beach_voyeur          n02837789_11383.JPEG"
      ]
     },
     "execution_count": 13,
     "metadata": {},
     "output_type": "execute_result"
    }
   ],
   "source": [
    "# 9: Dataframe contaimning the details of the 61 images unearthed via hand survey\n",
    "df=pd.read_csv(os.path.join(csv_dir,'df_hand_survey.csv')) \n",
    "print(df.shape)\n",
    "df.head(2)"
   ]
  },
  {
   "cell_type": "markdown",
   "metadata": {},
   "source": [
    "# 2: Tiny images"
   ]
  },
  {
   "cell_type": "code",
   "execution_count": 14,
   "metadata": {},
   "outputs": [
    {
     "name": "stdout",
     "output_type": "stream",
     "text": [
      "(75846, 3)\n"
     ]
    },
    {
     "data": {
      "text/html": [
       "<div>\n",
       "<style scoped>\n",
       "    .dataframe tbody tr th:only-of-type {\n",
       "        vertical-align: middle;\n",
       "    }\n",
       "\n",
       "    .dataframe tbody tr th {\n",
       "        vertical-align: top;\n",
       "    }\n",
       "\n",
       "    .dataframe thead th {\n",
       "        text-align: right;\n",
       "    }\n",
       "</style>\n",
       "<table border=\"1\" class=\"dataframe\">\n",
       "  <thead>\n",
       "    <tr style=\"text-align: right;\">\n",
       "      <th></th>\n",
       "      <th>class_ind</th>\n",
       "      <th>class_name</th>\n",
       "      <th>n_images</th>\n",
       "    </tr>\n",
       "  </thead>\n",
       "  <tbody>\n",
       "    <tr>\n",
       "      <th>0</th>\n",
       "      <td>0</td>\n",
       "      <td>a-bomb</td>\n",
       "      <td>2426</td>\n",
       "    </tr>\n",
       "    <tr>\n",
       "      <th>1</th>\n",
       "      <td>1</td>\n",
       "      <td>a-horizon</td>\n",
       "      <td>1866</td>\n",
       "    </tr>\n",
       "  </tbody>\n",
       "</table>\n",
       "</div>"
      ],
      "text/plain": [
       "   class_ind class_name  n_images\n",
       "0          0     a-bomb      2426\n",
       "1          1  a-horizon      1866"
      ]
     },
     "execution_count": 14,
     "metadata": {},
     "output_type": "execute_result"
    }
   ],
   "source": [
    "# Dataframe containing the class_ind, class_name (wordnet noun) and n_images\n",
    "df=pd.read_csv(os.path.join(csv_dir,'df_classes_tiny_images_3.csv'))\n",
    "print(df.shape)\n",
    "df.head(2)"
   ]
  },
  {
   "cell_type": "markdown",
   "metadata": {},
   "source": [
    "# 3: Dog analysis"
   ]
  },
  {
   "cell_type": "code",
   "execution_count": 15,
   "metadata": {},
   "outputs": [
    {
     "name": "stdout",
     "output_type": "stream",
     "text": [
      "(7, 4)\n"
     ]
    },
    {
     "data": {
      "text/html": [
       "<div>\n",
       "<style scoped>\n",
       "    .dataframe tbody tr th:only-of-type {\n",
       "        vertical-align: middle;\n",
       "    }\n",
       "\n",
       "    .dataframe tbody tr th {\n",
       "        vertical-align: top;\n",
       "    }\n",
       "\n",
       "    .dataframe thead th {\n",
       "        text-align: right;\n",
       "    }\n",
       "</style>\n",
       "<table border=\"1\" class=\"dataframe\">\n",
       "  <thead>\n",
       "    <tr style=\"text-align: right;\">\n",
       "      <th></th>\n",
       "      <th>Breed</th>\n",
       "      <th>label</th>\n",
       "      <th>gender_ratio</th>\n",
       "      <th>Dog_breedClub</th>\n",
       "    </tr>\n",
       "  </thead>\n",
       "  <tbody>\n",
       "    <tr>\n",
       "      <th>0</th>\n",
       "      <td>EnglishSpringerSpaniel</td>\n",
       "      <td>Welsh springer spaniel</td>\n",
       "      <td>2.958333</td>\n",
       "      <td>0.79</td>\n",
       "    </tr>\n",
       "    <tr>\n",
       "      <th>1</th>\n",
       "      <td>GoldenRetriever</td>\n",
       "      <td>golden retriever</td>\n",
       "      <td>1.318182</td>\n",
       "      <td>0.49</td>\n",
       "    </tr>\n",
       "  </tbody>\n",
       "</table>\n",
       "</div>"
      ],
      "text/plain": [
       "                    Breed                   label  gender_ratio  Dog_breedClub\n",
       "0  EnglishSpringerSpaniel  Welsh springer spaniel      2.958333           0.79\n",
       "1         GoldenRetriever        golden retriever      1.318182           0.49"
      ]
     },
     "execution_count": 15,
     "metadata": {},
     "output_type": "execute_result"
    }
   ],
   "source": [
    "# Daframe containing breed, gender_ratio and survey result from the paper Breed differences in canine aggression'\n",
    "df=pd.read_csv(os.path.join(csv_dir,'df_dog_analysis.csv'))\n",
    "print(df.shape)\n",
    "df.head(2)"
   ]
  },
  {
   "cell_type": "code",
   "execution_count": 16,
   "metadata": {},
   "outputs": [
    {
     "name": "stdout",
     "output_type": "stream",
     "text": [
      "(120, 2)\n"
     ]
    },
    {
     "data": {
      "text/html": [
       "<div>\n",
       "<style scoped>\n",
       "    .dataframe tbody tr th:only-of-type {\n",
       "        vertical-align: middle;\n",
       "    }\n",
       "\n",
       "    .dataframe tbody tr th {\n",
       "        vertical-align: top;\n",
       "    }\n",
       "\n",
       "    .dataframe thead th {\n",
       "        text-align: right;\n",
       "    }\n",
       "</style>\n",
       "<table border=\"1\" class=\"dataframe\">\n",
       "  <thead>\n",
       "    <tr style=\"text-align: right;\">\n",
       "      <th></th>\n",
       "      <th>ImageNet_Synset</th>\n",
       "      <th>Dog_breed</th>\n",
       "    </tr>\n",
       "  </thead>\n",
       "  <tbody>\n",
       "    <tr>\n",
       "      <th>0</th>\n",
       "      <td>n02110627</td>\n",
       "      <td>Affenpinscher</td>\n",
       "    </tr>\n",
       "    <tr>\n",
       "      <th>1</th>\n",
       "      <td>n02088094</td>\n",
       "      <td>Afghan hound</td>\n",
       "    </tr>\n",
       "  </tbody>\n",
       "</table>\n",
       "</div>"
      ],
      "text/plain": [
       "  ImageNet_Synset      Dog_breed\n",
       "0       n02110627  Affenpinscher\n",
       "1       n02088094   Afghan hound"
      ]
     },
     "execution_count": 16,
     "metadata": {},
     "output_type": "execute_result"
    }
   ],
   "source": [
    "# Dog breeds for the 120 dogs in the ImageNet dataset\n",
    "df=pd.read_csv(os.path.join(csv_dir,'dogs_imagenet.csv'))\n",
    "print(df.shape)\n",
    "df.head(2)"
   ]
  },
  {
   "cell_type": "code",
   "execution_count": 17,
   "metadata": {},
   "outputs": [
    {
     "name": "stdout",
     "output_type": "stream",
     "text": [
      "(206, 3)\n"
     ]
    },
    {
     "data": {
      "text/html": [
       "<div>\n",
       "<style scoped>\n",
       "    .dataframe tbody tr th:only-of-type {\n",
       "        vertical-align: middle;\n",
       "    }\n",
       "\n",
       "    .dataframe tbody tr th {\n",
       "        vertical-align: top;\n",
       "    }\n",
       "\n",
       "    .dataframe thead th {\n",
       "        text-align: right;\n",
       "    }\n",
       "</style>\n",
       "<table border=\"1\" class=\"dataframe\">\n",
       "  <thead>\n",
       "    <tr style=\"text-align: right;\">\n",
       "      <th></th>\n",
       "      <th>Unnamed: 0</th>\n",
       "      <th>breed</th>\n",
       "      <th>dog_group</th>\n",
       "    </tr>\n",
       "  </thead>\n",
       "  <tbody>\n",
       "    <tr>\n",
       "      <th>0</th>\n",
       "      <td>0</td>\n",
       "      <td>Blue Lacy</td>\n",
       "      <td>Herding</td>\n",
       "    </tr>\n",
       "    <tr>\n",
       "      <th>1</th>\n",
       "      <td>1</td>\n",
       "      <td>Queensland Heeler</td>\n",
       "      <td>Herding</td>\n",
       "    </tr>\n",
       "  </tbody>\n",
       "</table>\n",
       "</div>"
      ],
      "text/plain": [
       "   Unnamed: 0              breed dog_group\n",
       "0           0          Blue Lacy   Herding\n",
       "1           1  Queensland Heeler   Herding"
      ]
     },
     "execution_count": 17,
     "metadata": {},
     "output_type": "execute_result"
    }
   ],
   "source": [
    "# Dog breed to AKC dog group for 206 breeds of dogs\n",
    "df=pd.read_csv(os.path.join(csv_dir,'df_dog_groups.csv'))\n",
    "print(df.shape)\n",
    "df.head(2)"
   ]
  },
  {
   "cell_type": "markdown",
   "metadata": {},
   "source": [
    "# 4: Pertaining to the semantics of the imagenet classes:"
   ]
  },
  {
   "cell_type": "code",
   "execution_count": 18,
   "metadata": {},
   "outputs": [
    {
     "name": "stdout",
     "output_type": "stream",
     "text": [
      "(1000, 3) 8\n"
     ]
    },
    {
     "data": {
      "text/html": [
       "<div>\n",
       "<style scoped>\n",
       "    .dataframe tbody tr th:only-of-type {\n",
       "        vertical-align: middle;\n",
       "    }\n",
       "\n",
       "    .dataframe tbody tr th {\n",
       "        vertical-align: top;\n",
       "    }\n",
       "\n",
       "    .dataframe thead th {\n",
       "        text-align: right;\n",
       "    }\n",
       "</style>\n",
       "<table border=\"1\" class=\"dataframe\">\n",
       "  <thead>\n",
       "    <tr style=\"text-align: right;\">\n",
       "      <th></th>\n",
       "      <th>class_number</th>\n",
       "      <th>label</th>\n",
       "      <th>wordnet_id</th>\n",
       "    </tr>\n",
       "  </thead>\n",
       "  <tbody>\n",
       "    <tr>\n",
       "      <th>0</th>\n",
       "      <td>0</td>\n",
       "      <td>tench, Tinca tinca</td>\n",
       "      <td>n01440764</td>\n",
       "    </tr>\n",
       "    <tr>\n",
       "      <th>1</th>\n",
       "      <td>1</td>\n",
       "      <td>goldfish, Carassius auratus</td>\n",
       "      <td>n01443537</td>\n",
       "    </tr>\n",
       "  </tbody>\n",
       "</table>\n",
       "</div>"
      ],
      "text/plain": [
       "   class_number                        label wordnet_id\n",
       "0             0           tench, Tinca tinca  n01440764\n",
       "1             1  goldfish, Carassius auratus  n01443537"
      ]
     },
     "execution_count": 18,
     "metadata": {},
     "output_type": "execute_result"
    }
   ],
   "source": [
    "# ImageNet classes hand-renamed for 8 classes that were repeats or didn't have Glove embeddings \n",
    "# (The remaining 992 classes remian the same)\n",
    "df=pd.read_csv(os.path.join(csv_dir,'df_imagenet_renamed.csv'))\n",
    "print(df.shape,(df.label!=df_census.label).sum())\n",
    "df.head(2)"
   ]
  },
  {
   "cell_type": "code",
   "execution_count": 19,
   "metadata": {},
   "outputs": [
    {
     "name": "stdout",
     "output_type": "stream",
     "text": [
      "(1000, 5) 8\n"
     ]
    },
    {
     "data": {
      "text/html": [
       "<div>\n",
       "<style scoped>\n",
       "    .dataframe tbody tr th:only-of-type {\n",
       "        vertical-align: middle;\n",
       "    }\n",
       "\n",
       "    .dataframe tbody tr th {\n",
       "        vertical-align: top;\n",
       "    }\n",
       "\n",
       "    .dataframe thead th {\n",
       "        text-align: right;\n",
       "    }\n",
       "</style>\n",
       "<table border=\"1\" class=\"dataframe\">\n",
       "  <thead>\n",
       "    <tr style=\"text-align: right;\">\n",
       "      <th></th>\n",
       "      <th>class_number</th>\n",
       "      <th>wordnet_id</th>\n",
       "      <th>label</th>\n",
       "      <th>umap_x</th>\n",
       "      <th>umap_y</th>\n",
       "    </tr>\n",
       "  </thead>\n",
       "  <tbody>\n",
       "    <tr>\n",
       "      <th>0</th>\n",
       "      <td>0</td>\n",
       "      <td>n01440764</td>\n",
       "      <td>tench, Tinca tinca</td>\n",
       "      <td>1.277791</td>\n",
       "      <td>8.856661</td>\n",
       "    </tr>\n",
       "    <tr>\n",
       "      <th>1</th>\n",
       "      <td>1</td>\n",
       "      <td>n01443537</td>\n",
       "      <td>goldfish, Carassius auratus</td>\n",
       "      <td>1.314007</td>\n",
       "      <td>8.638370</td>\n",
       "    </tr>\n",
       "  </tbody>\n",
       "</table>\n",
       "</div>"
      ],
      "text/plain": [
       "   class_number wordnet_id                        label    umap_x    umap_y\n",
       "0             0  n01440764           tench, Tinca tinca  1.277791  8.856661\n",
       "1             1  n01443537  goldfish, Carassius auratus  1.314007  8.638370"
      ]
     },
     "execution_count": 19,
     "metadata": {},
     "output_type": "execute_result"
    }
   ],
   "source": [
    "# Dataframe with re-named names and the associated 2D UMAP embeddings of the 300-D Glove vectors\n",
    "df=pd.read_csv(os.path.join(csv_dir,'df_imagenet_names_umap.csv'))\n",
    "print(df.shape,(df.label!=df_census.label).sum())\n",
    "df.head(2)"
   ]
  },
  {
   "cell_type": "code",
   "execution_count": 20,
   "metadata": {},
   "outputs": [
    {
     "name": "stdout",
     "output_type": "stream",
     "text": [
      "(1000, 9) 8\n"
     ]
    },
    {
     "data": {
      "text/html": [
       "<div>\n",
       "<style scoped>\n",
       "    .dataframe tbody tr th:only-of-type {\n",
       "        vertical-align: middle;\n",
       "    }\n",
       "\n",
       "    .dataframe tbody tr th {\n",
       "        vertical-align: top;\n",
       "    }\n",
       "\n",
       "    .dataframe thead th {\n",
       "        text-align: right;\n",
       "    }\n",
       "</style>\n",
       "<table border=\"1\" class=\"dataframe\">\n",
       "  <thead>\n",
       "    <tr style=\"text-align: right;\">\n",
       "      <th></th>\n",
       "      <th>class_number</th>\n",
       "      <th>label</th>\n",
       "      <th>wordnet_id</th>\n",
       "      <th>umap_x</th>\n",
       "      <th>umap_y</th>\n",
       "      <th>mean_top1_train_resnet50</th>\n",
       "      <th>mean_top1_val_resnet50</th>\n",
       "      <th>mean_nsfw_train</th>\n",
       "      <th>mean_nsfw_val</th>\n",
       "    </tr>\n",
       "  </thead>\n",
       "  <tbody>\n",
       "    <tr>\n",
       "      <th>0</th>\n",
       "      <td>0</td>\n",
       "      <td>tench, Tinca tinca</td>\n",
       "      <td>n01440764</td>\n",
       "      <td>1.916009</td>\n",
       "      <td>9.327968</td>\n",
       "      <td>0.906923</td>\n",
       "      <td>0.82</td>\n",
       "      <td>0.073776</td>\n",
       "      <td>0.124612</td>\n",
       "    </tr>\n",
       "    <tr>\n",
       "      <th>1</th>\n",
       "      <td>1</td>\n",
       "      <td>goldfish, Carassius auratus</td>\n",
       "      <td>n01443537</td>\n",
       "      <td>1.882166</td>\n",
       "      <td>8.996173</td>\n",
       "      <td>0.932308</td>\n",
       "      <td>0.80</td>\n",
       "      <td>0.030087</td>\n",
       "      <td>0.052769</td>\n",
       "    </tr>\n",
       "  </tbody>\n",
       "</table>\n",
       "</div>"
      ],
      "text/plain": [
       "   class_number                        label wordnet_id    umap_x    umap_y  \\\n",
       "0             0           tench, Tinca tinca  n01440764  1.916009  9.327968   \n",
       "1             1  goldfish, Carassius auratus  n01443537  1.882166  8.996173   \n",
       "\n",
       "   mean_top1_train_resnet50  mean_top1_val_resnet50  mean_nsfw_train  \\\n",
       "0                  0.906923                    0.82         0.073776   \n",
       "1                  0.932308                    0.80         0.030087   \n",
       "\n",
       "   mean_nsfw_val  \n",
       "0       0.124612  \n",
       "1       0.052769  "
      ]
     },
     "execution_count": 20,
     "metadata": {},
     "output_type": "execute_result"
    }
   ],
   "source": [
    "# A temp datatframe with re-named labels with UMAP locations, class-wise accuracies and NSFW scores\n",
    "df=pd.read_csv(os.path.join(csv_dir,'df_comb_umap.csv'))\n",
    "print(df.shape,(df.label!=df_census.label).sum())\n",
    "df.head(2)"
   ]
  }
 ],
 "metadata": {
  "kernelspec": {
   "display_name": "Python 3",
   "language": "python",
   "name": "python3"
  },
  "language_info": {
   "codemirror_mode": {
    "name": "ipython",
    "version": 3
   },
   "file_extension": ".py",
   "mimetype": "text/x-python",
   "name": "python",
   "nbconvert_exporter": "python",
   "pygments_lexer": "ipython3",
   "version": "3.7.6"
  }
 },
 "nbformat": 4,
 "nbformat_minor": 4
}
